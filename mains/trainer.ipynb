{
 "cells": [
  {
   "cell_type": "code",
   "execution_count": 1,
   "metadata": {
    "collapsed": true
   },
   "outputs": [
    {
     "ename": "ModuleNotFoundError",
     "evalue": "No module named 'utils'",
     "output_type": "error",
     "traceback": [
      "\u001B[1;31m---------------------------------------------------------------------------\u001B[0m",
      "\u001B[1;31mModuleNotFoundError\u001B[0m                       Traceback (most recent call last)",
      "\u001B[1;32m<ipython-input-1-979695c6e95f>\u001B[0m in \u001B[0;36m<module>\u001B[1;34m\u001B[0m\n\u001B[0;32m     10\u001B[0m \u001B[1;33m\u001B[0m\u001B[0m\n\u001B[0;32m     11\u001B[0m \u001B[1;33m\u001B[0m\u001B[0m\n\u001B[1;32m---> 12\u001B[1;33m \u001B[1;32mfrom\u001B[0m \u001B[0mutils\u001B[0m\u001B[1;33m.\u001B[0m\u001B[0mconfig\u001B[0m \u001B[1;32mimport\u001B[0m \u001B[1;33m*\u001B[0m\u001B[1;33m\u001B[0m\u001B[1;33m\u001B[0m\u001B[0m\n\u001B[0m\u001B[0;32m     13\u001B[0m \u001B[1;32mfrom\u001B[0m \u001B[0mdata_loader\u001B[0m\u001B[1;33m.\u001B[0m\u001B[0mdata_Ent_babi\u001B[0m \u001B[1;32mimport\u001B[0m \u001B[0mprepare_data\u001B[0m\u001B[1;33m\u001B[0m\u001B[1;33m\u001B[0m\u001B[0m\n\u001B[0;32m     14\u001B[0m \u001B[1;32mfrom\u001B[0m \u001B[0mmodels\u001B[0m\u001B[1;33m.\u001B[0m\u001B[0mGLMP\u001B[0m \u001B[1;32mimport\u001B[0m \u001B[0mGLMP\u001B[0m\u001B[1;33m\u001B[0m\u001B[1;33m\u001B[0m\u001B[0m\n",
      "\u001B[1;31mModuleNotFoundError\u001B[0m: No module named 'utils'"
     ]
    }
   ],
   "source": [
    "# -*- coding: utf-8 -*-\n",
    "\n",
    "# @Author  : xmh\n",
    "# @Time    : 2020/12/25 14:52\n",
    "# @File    : trainer.py\n",
    "\"\"\"\n",
    "文件说明：\n",
    "\n",
    "\"\"\"\n",
    "\n",
    "\n",
    "from utils.config import *\n",
    "from data_loader.data_Ent_babi import prepare_data\n",
    "from models.GLMP import GLMP\n",
    "from tqdm import tqdm\n",
    "import math\n",
    "\n",
    "metrics_best, cnt = 0.0, 0\n",
    "\n",
    "# 转换数据\n",
    "train_loader, dev_loader, tst_loader, tst_oov_loader, word_map, max_resp_len = prepare_data(args['task'],\n",
    "                                                                                            args['batch_size'])\n",
    "\n",
    "model = GLMP(args['hidden_size'], word_map, max_resp_len, args['task'], args['learning_rate'],\n",
    "             args['layer_num'], args['drop'])\n"
   ]
  }
 ],
 "metadata": {
  "kernelspec": {
   "display_name": "Python 3",
   "language": "python",
   "name": "python3"
  },
  "language_info": {
   "codemirror_mode": {
    "name": "ipython",
    "version": 2
   },
   "file_extension": ".py",
   "mimetype": "text/x-python",
   "name": "python",
   "nbconvert_exporter": "python",
   "pygments_lexer": "ipython2",
   "version": "2.7.6"
  }
 },
 "nbformat": 4,
 "nbformat_minor": 0
}